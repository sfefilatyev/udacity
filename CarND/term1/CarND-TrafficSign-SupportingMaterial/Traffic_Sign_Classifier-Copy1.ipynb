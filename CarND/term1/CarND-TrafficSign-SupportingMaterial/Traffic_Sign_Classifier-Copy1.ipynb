{
 "cells": [
  {
   "cell_type": "markdown",
   "metadata": {
    "deletable": true,
    "editable": true
   },
   "source": [
    "# Self-Driving Car Engineer Nanodegree\n",
    "\n",
    "## Deep Learning\n",
    "\n",
    "## Project: Build a Traffic Sign Recognition Classifier\n",
    "\n",
    "In this notebook, a template is provided for you to implement your functionality in stages, which is required to successfully complete this project. If additional code is required that cannot be included in the notebook, be sure that the Python code is successfully imported and included in your submission if necessary. \n",
    "\n",
    "> **Note**: Once you have completed all of the code implementations, you need to finalize your work by exporting the iPython Notebook as an HTML document. Before exporting the notebook to html, all of the code cells need to have been run so that reviewers can see the final implementation and output. You can then export the notebook by using the menu above and navigating to  \\n\",\n",
    "    \"**File -> Download as -> HTML (.html)**. Include the finished document along with this notebook as your submission. \n",
    "\n",
    "In addition to implementing code, there is a writeup to complete. The writeup should be completed in a separate file, which can be either a markdown file or a pdf document. There is a [write up template](https://github.com/udacity/CarND-Traffic-Sign-Classifier-Project/blob/master/writeup_template.md) that can be used to guide the writing process. Completing the code template and writeup template will cover all of the [rubric points](https://review.udacity.com/#!/rubrics/481/view) for this project.\n",
    "\n",
    "The [rubric](https://review.udacity.com/#!/rubrics/481/view) contains \"Stand Out Suggestions\" for enhancing the project beyond the minimum requirements. The stand out suggestions are optional. If you decide to pursue the \"stand out suggestions\", you can include the code in this Ipython notebook and also discuss the results in the writeup file.\n",
    "\n",
    "\n",
    ">**Note:** Code and Markdown cells can be executed using the **Shift + Enter** keyboard shortcut. In addition, Markdown cells can be edited by typically double-clicking the cell to enter edit mode."
   ]
  },
  {
   "cell_type": "markdown",
   "metadata": {
    "deletable": true,
    "editable": true
   },
   "source": [
    "---\n",
    "## Step 0: Load The Data"
   ]
  },
  {
   "cell_type": "code",
   "execution_count": 233,
   "metadata": {
    "collapsed": false,
    "deletable": true,
    "editable": true
   },
   "outputs": [],
   "source": [
    "# Load pickled data\n",
    "import pickle\n",
    "import numpy as np\n",
    "\n",
    "# TODO: Fill this in based on where you saved the training and testing data\n",
    "\n",
    "training_file = \"./train.p\"\n",
    "validation_file = \"./valid.p\"\n",
    "testing_file = \"./test.p\"\n",
    "\n",
    "\n",
    "with open(training_file, mode='rb') as f1:\n",
    "    train = pickle.load(f1)\n",
    "with open(validation_file, mode='rb') as f2:\n",
    "    valid = pickle.load(f2)\n",
    "with open(testing_file, mode='rb') as f3:\n",
    "    test = pickle.load(f3)\n",
    "    \n",
    "X_train, y_train = train['features'], train['labels']\n",
    "assert(X_train.shape[0] == y_train.shape[0])\n",
    "X_valid, y_valid = valid['features'], valid['labels']\n",
    "assert(X_valid.shape[0] == y_valid.shape[0])\n",
    "X_test, y_test = test['features'], test['labels']\n",
    "assert(X_test.shape[0] == y_test.shape[0])\n",
    "\n",
    "def map_classes(filename):\n",
    "    \"\"\" Utility function to map class identifiers to class names\"\"\"\n",
    "    class_map = {}\n",
    "    with open(filename, 'r') as f:\n",
    "        csvreader = csv.reader(f, delimiter = ',')\n",
    "        next(csvreader)  # skipping header row\n",
    "        for row in csvreader:\n",
    "            if len(row) != 2:\n",
    "                continue\n",
    "            class_map[int(row[0])] = row[1]\n",
    "        return class_map\n",
    "    return None\n",
    "\n",
    "# the following dict maps values from class code to class name\n",
    "# we can also count its values to make correct one-hot encoding\n",
    "class_map = map_classes('./signnames.csv')"
   ]
  },
  {
   "cell_type": "markdown",
   "metadata": {
    "deletable": true,
    "editable": true
   },
   "source": [
    "---\n",
    "\n",
    "## Step 1: Dataset Summary & Exploration\n",
    "\n",
    "The pickled data is a dictionary with 4 key/value pairs:\n",
    "\n",
    "- `'features'` is a 4D array containing raw pixel data of the traffic sign images, (num examples, width, height, channels).\n",
    "- `'labels'` is a 1D array containing the label/class id of the traffic sign. The file `signnames.csv` contains id -> name mappings for each id.\n",
    "- `'sizes'` is a list containing tuples, (width, height) representing the the original width and height the image.\n",
    "- `'coords'` is a list containing tuples, (x1, y1, x2, y2) representing coordinates of a bounding box around the sign in the image. **THESE COORDINATES ASSUME THE ORIGINAL IMAGE. THE PICKLED DATA CONTAINS RESIZED VERSIONS (32 by 32) OF THESE IMAGES**\n",
    "\n",
    "Complete the basic data summary below. Use python, numpy and/or pandas methods to calculate the data summary rather than hard coding the results. For example, the [pandas shape method](http://pandas.pydata.org/pandas-docs/stable/generated/pandas.DataFrame.shape.html) might be useful for calculating some of the summary results. "
   ]
  },
  {
   "cell_type": "markdown",
   "metadata": {
    "deletable": true,
    "editable": true
   },
   "source": [
    "### Provide a Basic Summary of the Data Set Using Python, Numpy and/or Pandas"
   ]
  },
  {
   "cell_type": "code",
   "execution_count": 236,
   "metadata": {
    "collapsed": false,
    "deletable": true,
    "editable": true
   },
   "outputs": [
    {
     "name": "stdout",
     "output_type": "stream",
     "text": [
      "Number of training examples = 34799\n",
      "Number of validation examples = 4410\n",
      "Number of testing examples = 12630\n",
      "Image data shape = (32, 32, 3)\n",
      "Number of classes = 43\n",
      "Showing distribution of the training set\n"
     ]
    },
    {
     "data": {
      "image/png": "[encoded data removed]",
      "text/plain": [
       "<matplotlib.figure.Figure at 0x7feaab50b518>"
      ]
     },
     "metadata": {},
     "output_type": "display_data"
    },
    {
     "name": "stdout",
     "output_type": "stream",
     "text": [
      "Showing distribution of the validation set\n"
     ]
    },
    {
     "data": {
      "image/png": "[encoded data removed]",
      "text/plain": [
       "<matplotlib.figure.Figure at 0x7feaab478550>"
      ]
     },
     "metadata": {},
     "output_type": "display_data"
    },
    {
     "name": "stdout",
     "output_type": "stream",
     "text": [
      "Showing distribution of the test set\n"
     ]
    },
    {
     "data": {
      "image/png": "[encoded data removed]",
      "text/plain": [
       "<matplotlib.figure.Figure at 0x7feaab30a8d0>"
      ]
     },
     "metadata": {},
     "output_type": "display_data"
    }
   ],
   "source": [
    "import copy\n",
    "### Data exploration visualization code goes here.\n",
    "### Feel free to use as many code cells as needed.\n",
    "import matplotlib.pyplot as plt\n",
    "import csv\n",
    "import random\n",
    "# Visualizations will be shown in the notebook.\n",
    "%matplotlib inline\n",
    "\n",
    "# Number of training examples\n",
    "n_train = X_train.shape[0]\n",
    "\n",
    "# Number of validation examples.\n",
    "n_valid = X_valid.shape[0]\n",
    "\n",
    "# Number of testing examples.\n",
    "n_test = X_test.shape[0]\n",
    "\n",
    "# What's the shape of an traffic sign image?\n",
    "image_shape = X_train[0].shape\n",
    "\n",
    "# How many unique classes/labels there are in the dataset.\n",
    "train_unique = np.unique(y_train)\n",
    "test_unique = np.unique(y_test)\n",
    "valid_unique = np.unique(y_valid)\n",
    "\n",
    "all_unique = copy.deepcopy(test_unique)\n",
    "np.unique(np.append(all_unique,train_unique))\n",
    "np.unique(np.append(all_unique, valid_unique))\n",
    "n_classes = len(all_unique)\n",
    "\n",
    "print(\"Number of training examples =\", n_train)\n",
    "print(\"Number of validation examples =\", n_valid)\n",
    "print(\"Number of testing examples =\", n_test)\n",
    "print(\"Image data shape =\", image_shape)\n",
    "print(\"Number of classes =\", n_classes)\n",
    "\n",
    "print (\"Showing distribution of the training set\")\n",
    "plt.figure\n",
    "plt.hist(y_train, bins=range(n_classes))\n",
    "plt.show()\n",
    "print (\"Showing distribution of the validation set\")\n",
    "plt.figure\n",
    "plt.hist(y_valid, bins=range(n_classes))\n",
    "plt.show()\n",
    "print (\"Showing distribution of the test set\")\n",
    "plt.figure\n",
    "plt.hist(y_test, bins=range(n_classes))\n",
    "plt.show()"
   ]
  },
  {
   "cell_type": "markdown",
   "metadata": {
    "deletable": true,
    "editable": true
   },
   "source": [
    "### Include an exploratory visualization of the dataset"
   ]
  },
  {
   "cell_type": "markdown",
   "metadata": {
    "deletable": true,
    "editable": true
   },
   "source": [
    "Visualize the German Traffic Signs Dataset using the pickled file(s). This is open ended, suggestions include: plotting traffic sign images, plotting the count of each sign, etc.\n",
    "\n",
    "The [Matplotlib](http://matplotlib.org/) [examples](http://matplotlib.org/examples/index.html) and [gallery](http://matplotlib.org/gallery.html) pages are a great resource for doing visualizations in Python.\n",
    "\n",
    "**NOTE:** It's recommended you start with something simple first. If you wish to do more, come back to it after you've completed the rest of the sections."
   ]
  },
  {
   "cell_type": "code",
   "execution_count": 237,
   "metadata": {
    "collapsed": false,
    "deletable": true,
    "editable": true
   },
   "outputs": [
    {
     "name": "stdout",
     "output_type": "stream",
     "text": [
      "Class ID: 35, Class Label: Ahead only\n"
     ]
    },
    {
     "data": {
      "image/png": "[encoded data removed]",
      "text/plain": [
       "<matplotlib.figure.Figure at 0x7fea6b637198>"
      ]
     },
     "metadata": {},
     "output_type": "display_data"
    }
   ],
   "source": [
    "index = random.randint(0, len(y_train))\n",
    "image = X_train[index].squeeze()\n",
    "plt.figure(figsize=(1,1),)\n",
    "plt.imshow(image)\n",
    "if class_map[y_train[index]]:\n",
    "    print(\"Class ID: {}, Class Label: {}\".format(y_train[index],class_map[y_train[index]]))\n",
    "else:\n",
    "    print(\"Class ID: {}\".format(y_train[index]))"
   ]
  },
  {
   "cell_type": "markdown",
   "metadata": {
    "deletable": true,
    "editable": true
   },
   "source": [
    "----\n",
    "\n",
    "## Step 2: Design and Test a Model Architecture\n",
    "\n",
    "Design and implement a deep learning model that learns to recognize traffic signs. Train and test your model on the [German Traffic Sign Dataset](http://benchmark.ini.rub.de/?section=gtsrb&subsection=dataset).\n",
    "\n",
    "There are various aspects to consider when thinking about this problem:\n",
    "\n",
    "- Neural network architecture\n",
    "- Play around preprocessing techniques (normalization, rgb to grayscale, etc)\n",
    "- Number of examples per label (some have more than others).\n",
    "- Generate fake data.\n",
    "\n",
    "Here is an example of a [published baseline model on this problem](http://yann.lecun.com/exdb/publis/pdf/sermanet-ijcnn-11.pdf). It's not required to be familiar with the approach used in the paper but, it's good practice to try to read papers like these.\n",
    "\n",
    "**NOTE:** The LeNet-5 implementation shown in the [classroom](https://classroom.udacity.com/nanodegrees/nd013/parts/fbf77062-5703-404e-b60c-95b78b2f3f9e/modules/6df7ae49-c61c-4bb2-a23e-6527e69209ec/lessons/601ae704-1035-4287-8b11-e2c2716217ad/concepts/d4aca031-508f-4e0b-b493-e7b706120f81) at the end of the CNN lesson is a solid starting point. You'll have to change the number of classes and possibly the preprocessing, but aside from that it's plug and play!"
   ]
  },
  {
   "cell_type": "markdown",
   "metadata": {
    "deletable": true,
    "editable": true
   },
   "source": [
    "### Pre-process the Data Set (normalization, grayscale, etc.)"
   ]
  },
  {
   "cell_type": "markdown",
   "metadata": {
    "deletable": true,
    "editable": true
   },
   "source": [
    "Use the code cell (or multiple code cells, if necessary) to implement the first step of your project."
   ]
  },
  {
   "cell_type": "code",
   "execution_count": 238,
   "metadata": {
    "collapsed": false,
    "deletable": true,
    "editable": true
   },
   "outputs": [
    {
     "name": "stdout",
     "output_type": "stream",
     "text": [
      "Using mean value of 82.6775890369964 for processing the dataset\n",
      "Using standard deviation value value of 67.85084533691406 for processing the dataset\n"
     ]
    }
   ],
   "source": [
    "### Preprocess the data here. Preprocessing steps could include normalization, converting to grayscale, etc.\n",
    "### Feel free to use as many code cells as needed.\n",
    "import tensorflow as tf\n",
    "from sklearn.utils import shuffle\n",
    "\n",
    "# Input is a 3-channel 32x32 image\n",
    "x = tf.placeholder(tf.float32, (None, 32, 32, 3))\n",
    "y = tf.placeholder(tf.int32, (None))\n",
    "dropout_rate = tf.placeholder(tf.float32)\n",
    "one_hot_y = tf.one_hot(y, len(class_map.keys()))\n",
    "\n",
    "EPOCHS = 20\n",
    "BATCH_SIZE = 128\n",
    "\n",
    "# preprocessing the training and validation sets. Calculating the  \n",
    "# mean using a numpy method. We subtract it from each pixel \n",
    "# and divide by 128 to have all features in range of [-1, 1]. Assumption that \n",
    "# originally all pixel values are in the rage of [0, 255]\n",
    "x_mean = X_train.mean()\n",
    "print(\"Using mean value of {} for processing the dataset\".format(x_mean))\n",
    "X_train = X_train.astype('float32')\n",
    "X_train = X_train - x_mean\n",
    "x_std = X_train.std()\n",
    "print(\"Using standard deviation value value of {} for processing the dataset\".format(X_std))\n",
    "X_train = X_train / x_std\n",
    "\n",
    "X_valid = X_valid.astype('float32')\n",
    "X_valid = X_valid - x_mean # using mean from the training set\n",
    "X_valid = X_valid / x_std\n",
    "\n",
    "X_test = X_test.astype('float32')\n",
    "X_test = X_test - x_mean # using mean from the training set\n",
    "X_test = X_test / x_std"
   ]
  },
  {
   "cell_type": "markdown",
   "metadata": {
    "deletable": true,
    "editable": true
   },
   "source": [
    "### Model Architecture"
   ]
  },
  {
   "cell_type": "code",
   "execution_count": 239,
   "metadata": {
    "collapsed": true,
    "deletable": true,
    "editable": true
   },
   "outputs": [],
   "source": [
    "from tensorflow.contrib.layers import flatten\n",
    "\n",
    "def LeNet(x, dropout_rate):    \n",
    "    \"\"\" Definition of the LeNet architectur for this problem \"\"\"\n",
    "    mu = 0\n",
    "    sigma = 0.1\n",
    "    weights = {\n",
    "        # important - changing the number of input channels to 3\n",
    "        'wc1' : tf.Variable(tf.truncated_normal(shape=(5, 5, 3, 6), mean = mu, stddev = sigma)),\n",
    "        'wc2' : tf.Variable(tf.truncated_normal(shape=(5, 5, 6, 16), mean = mu, stddev = sigma)),\n",
    "        'wfc1' : tf.Variable(tf.truncated_normal(shape=(5*5*16, 120), mean = mu, stddev = sigma)),\n",
    "        'wfc2' : tf.Variable(tf.truncated_normal(shape=(120, 84), mean = mu, stddev = sigma)),\n",
    "        'wfc3' : tf.Variable(tf.truncated_normal(shape=(84, len(class_map.keys())), mean = mu, stddev = sigma)) \n",
    "        # 43 classes\n",
    "    }\n",
    "    biases = {\n",
    "        'bc1' : tf.Variable(tf.zeros(6)),\n",
    "        'bc2' : tf.Variable(tf.zeros(16)),\n",
    "        'bfc1' : tf.Variable(tf.zeros(120)), \n",
    "        'bfc2' : tf.Variable(tf.zeros(84)),\n",
    "        'bfc3' : tf.Variable(tf.zeros(len(class_map.keys()))) # 43 classes\n",
    "    }\n",
    "\n",
    "    conv_1 = tf.nn.conv2d(x, weights['wc1'], strides = [1, 1, 1, 1], padding = 'VALID')\n",
    "    conv_1 = tf.nn.bias_add(conv_1, biases['bc1'])\n",
    "    conv_1 = tf.nn.relu(conv_1)\n",
    "\n",
    "    pool_1 = tf.nn.max_pool(conv_1, ksize = [1, 2, 2, 1], strides = [1, 2, 2, 1], padding = 'VALID')\n",
    "\n",
    "    conv_2 = tf.nn.conv2d(pool_1, weights['wc2'], strides = [1, 1, 1, 1], padding = 'VALID')\n",
    "    conv_2 = tf.nn.bias_add(conv_2, biases['bc2'])\n",
    "    conv_2 = tf.nn.relu(conv_2)\n",
    "\n",
    "    pool_2 = tf.nn.max_pool(conv_2, ksize = [1, 2, 2, 1], strides = [1, 2, 2, 1], padding = 'VALID')\n",
    "\n",
    "    #flattening mutidimensional array\n",
    "    pool_2 = tf.contrib.layers.flatten(pool_2)\n",
    "\n",
    "    fc_1 = tf.matmul(pool_2, weights['wfc1']) + biases['bfc1']\n",
    "    fc_1 = tf.nn.dropout(fc_1,dropout_rate) # using dropout for regularization\n",
    "    fc_1 = tf.nn.relu(fc_1)\n",
    "\n",
    "    fc_2 = tf.matmul(fc_1, weights['wfc2']) + biases['bfc2']\n",
    "    fc_2 = tf.nn.dropout(fc_2,dropout_rate) # using dropout for regularization\n",
    "    fc_2 = tf.nn.relu(fc_2)\n",
    "\n",
    "    fc_3 = tf.matmul(fc_2, weights['wfc3']) + biases['bfc3']\n",
    "    logits = fc_3\n",
    "\n",
    "    \n",
    "    return logits"
   ]
  },
  {
   "cell_type": "markdown",
   "metadata": {
    "deletable": true,
    "editable": true
   },
   "source": [
    "### Train, Validate and Test the Model"
   ]
  },
  {
   "cell_type": "markdown",
   "metadata": {
    "deletable": true,
    "editable": true
   },
   "source": [
    "A validation set can be used to assess how well the model is performing. A low accuracy on the training and validation\n",
    "sets imply underfitting. A high accuracy on the test set but low accuracy on the validation set implies overfitting."
   ]
  },
  {
   "cell_type": "code",
   "execution_count": 241,
   "metadata": {
    "collapsed": false,
    "deletable": true,
    "editable": true
   },
   "outputs": [
    {
     "name": "stdout",
     "output_type": "stream",
     "text": [
      "Training...\n",
      "\n",
      "EPOCH 1 ...\n",
      "Validation Accuracy = 0.585\n",
      "\n",
      "EPOCH 2 ...\n",
      "Validation Accuracy = 0.811\n",
      "\n",
      "EPOCH 3 ...\n",
      "Validation Accuracy = 0.882\n",
      "\n",
      "EPOCH 4 ...\n",
      "Validation Accuracy = 0.894\n",
      "\n",
      "EPOCH 5 ...\n",
      "Validation Accuracy = 0.907\n",
      "\n",
      "EPOCH 6 ...\n",
      "Validation Accuracy = 0.928\n",
      "\n",
      "EPOCH 7 ...\n",
      "Validation Accuracy = 0.937\n",
      "\n",
      "EPOCH 8 ...\n",
      "Validation Accuracy = 0.937\n",
      "\n",
      "EPOCH 9 ...\n",
      "Validation Accuracy = 0.939\n",
      "\n",
      "EPOCH 10 ...\n",
      "Validation Accuracy = 0.942\n",
      "\n",
      "EPOCH 11 ...\n",
      "Validation Accuracy = 0.944\n",
      "\n",
      "EPOCH 12 ...\n",
      "Validation Accuracy = 0.948\n",
      "\n",
      "EPOCH 13 ...\n",
      "Validation Accuracy = 0.935\n",
      "\n",
      "EPOCH 14 ...\n",
      "Validation Accuracy = 0.946\n",
      "\n",
      "EPOCH 15 ...\n",
      "Validation Accuracy = 0.955\n",
      "\n",
      "EPOCH 16 ...\n",
      "Validation Accuracy = 0.949\n",
      "\n",
      "EPOCH 17 ...\n",
      "Validation Accuracy = 0.953\n",
      "\n",
      "EPOCH 18 ...\n",
      "Validation Accuracy = 0.950\n",
      "\n",
      "EPOCH 19 ...\n",
      "Validation Accuracy = 0.950\n",
      "\n",
      "EPOCH 20 ...\n",
      "Validation Accuracy = 0.959\n",
      "\n",
      "Testing model's performance on separate test set...\n",
      "Test Accuracy = 0.940\n",
      "\n",
      "Model saved\n"
     ]
    }
   ],
   "source": [
    "### Train your model here.\n",
    "### Calculate and report the accuracy on the training and validation set.\n",
    "### Once a final model architecture is selected, \n",
    "### the accuracy on the test set should be calculated and reported as well.\n",
    "### Feel free to use as many code cells as needed.\n",
    "\n",
    "rate = 0.001\n",
    "\n",
    "logits = LeNet(x, dropout_rate)\n",
    "cross_entropy = tf.nn.softmax_cross_entropy_with_logits(logits, one_hot_y)\n",
    "loss_operation = tf.reduce_mean(cross_entropy)\n",
    "optimizer = tf.train.AdamOptimizer(learning_rate = rate)\n",
    "training_operation = optimizer.minimize(loss_operation)\n",
    "\n",
    "correct_prediction = tf.equal(tf.argmax(logits, 1), tf.argmax(one_hot_y, 1))\n",
    "accuracy_operation = tf.reduce_mean(tf.cast(correct_prediction, tf.float32))\n",
    "saver = tf.train.Saver()\n",
    "\n",
    "def evaluate(X_data, y_data):\n",
    "    \"\"\" Evaluation routine \"\"\"\n",
    "    num_examples = len(X_data)\n",
    "    total_accuracy = 0\n",
    "    sess = tf.get_default_session()\n",
    "    for offset in range(0, num_examples, BATCH_SIZE):\n",
    "        batch_x, batch_y = X_data[offset:offset+BATCH_SIZE], y_data[offset:offset+BATCH_SIZE]\n",
    "        accuracy = sess.run(accuracy_operation, feed_dict={x: batch_x, y: batch_y, dropout_rate: 1})\n",
    "        total_accuracy += (accuracy * len(batch_x))\n",
    "    return total_accuracy / num_examples\n",
    "\n",
    "with tf.Session() as sess:\n",
    "    sess.run(tf.global_variables_initializer())\n",
    "    num_examples = len(X_train)\n",
    "    \n",
    "    print(\"Training...\")\n",
    "    print()\n",
    "    for i in range(EPOCHS):\n",
    "        X_train, y_train = shuffle(X_train, y_train)\n",
    "        for offset in range(0, num_examples, BATCH_SIZE):\n",
    "            end = offset + BATCH_SIZE\n",
    "            batch_x, batch_y = X_train[offset:end], y_train[offset:end]\n",
    "            sess.run(training_operation, feed_dict={x: batch_x, y: batch_y, dropout_rate: 0.5})\n",
    "            \n",
    "        validation_accuracy = evaluate(X_valid, y_valid)\n",
    "        print(\"EPOCH {} ...\".format(i+1))\n",
    "        print(\"Validation Accuracy = {:.3f}\".format(validation_accuracy))\n",
    "        print()\n",
    "\n",
    "    print(\"Testing model's performance on separate test set...\")\n",
    "    test_accuracy = evaluate(X_test, y_test)\n",
    "    print(\"Test Accuracy = {:.3f}\".format(test_accuracy))\n",
    "    print()\n",
    "        \n",
    "    saver.save(sess, './traffic_signs')\n",
    "    print(\"Model saved\")"
   ]
  },
  {
   "cell_type": "markdown",
   "metadata": {
    "deletable": true,
    "editable": true
   },
   "source": [
    "---\n",
    "\n",
    "## Step 3: Test a Model on New Images\n",
    "\n",
    "To give yourself more insight into how your model is working, download at least five pictures of German traffic signs from the web and use your model to predict the traffic sign type.\n",
    "\n",
    "You may find `signnames.csv` useful as it contains mappings from the class id (integer) to the actual sign name."
   ]
  },
  {
   "cell_type": "markdown",
   "metadata": {
    "deletable": true,
    "editable": true
   },
   "source": [
    "### Load and Output the Images"
   ]
  },
  {
   "cell_type": "code",
   "execution_count": 242,
   "metadata": {
    "collapsed": false,
    "deletable": true,
    "editable": true
   },
   "outputs": [
    {
     "name": "stdout",
     "output_type": "stream",
     "text": [
      "Original Test Images:\n"
     ]
    },
    {
     "data": {
      "text/html": [
       "<img style='width: 160px; margin: 0px; float: left; border: 1px solid black;' src='test_set/EndSpeedLimit_80.jpeg' /><img style='width: 160px; margin: 0px; float: left; border: 1px solid black;' src='test_set/GeneralWarning.jpeg' /><img style='width: 160px; margin: 0px; float: left; border: 1px solid black;' src='test_set/KeepLeft.jpeg' /><img style='width: 160px; margin: 0px; float: left; border: 1px solid black;' src='test_set/NoEntry.jpeg' /><img style='width: 160px; margin: 0px; float: left; border: 1px solid black;' src='test_set/NoPassing.jpeg' /><img style='width: 160px; margin: 0px; float: left; border: 1px solid black;' src='test_set/SpeedLimit_30.jpeg' /><img style='width: 160px; margin: 0px; float: left; border: 1px solid black;' src='test_set/PriorityRoad.jpeg' /><img style='width: 160px; margin: 0px; float: left; border: 1px solid black;' src='test_set/RoundAbout.jpeg' /><img style='width: 160px; margin: 0px; float: left; border: 1px solid black;' src='test_set/Stop.jpeg' /><img style='width: 160px; margin: 0px; float: left; border: 1px solid black;' src='test_set/Yield.jpeg' />"
      ],
      "text/plain": [
       "<IPython.core.display.HTML object>"
      ]
     },
     "metadata": {},
     "output_type": "display_data"
    },
    {
     "name": "stdout",
     "output_type": "stream",
     "text": [
      "Test Images Scalled in 32x32:\n",
      "Class ID: 6,  Class Label: End of speed limit (80km/h)\n",
      "Class ID: 18,  Class Label: General caution\n",
      "Class ID: 39,  Class Label: Keep left\n",
      "Class ID: 17,  Class Label: No entry\n",
      "Class ID: 9,  Class Label: No passing\n",
      "Class ID: 1,  Class Label: Speed limit (30km/h)\n",
      "Class ID: 12,  Class Label: Priority road\n",
      "Class ID: 40,  Class Label: Roundabout mandatory\n",
      "Class ID: 14,  Class Label: Stop\n",
      "Class ID: 13,  Class Label: Yield\n"
     ]
    },
    {
     "data": {
      "image/png": "[encoded data removed]",
      "text/plain": [
       "<matplotlib.figure.Figure at 0x7feaaafdb2e8>"
      ]
     },
     "metadata": {},
     "output_type": "display_data"
    },
    {
     "data": {
      "image/png": "[encoded data removed]",
      "text/plain": [
       "<matplotlib.figure.Figure at 0x7fea6ab33d30>"
      ]
     },
     "metadata": {},
     "output_type": "display_data"
    },
    {
     "data": {
      "image/png": "[encoded data removed]",
      "text/plain": [
       "<matplotlib.figure.Figure at 0x7fe9f5063a90>"
      ]
     },
     "metadata": {},
     "output_type": "display_data"
    },
    {
     "data": {
      "image/png": "[encoded data removed]",
      "text/plain": [
       "<matplotlib.figure.Figure at 0x7fe9f509ff60>"
      ]
     },
     "metadata": {},
     "output_type": "display_data"
    },
    {
     "data": {
      "image/png": "[encoded data removed]",
      "text/plain": [
       "<matplotlib.figure.Figure at 0x7fea26485630>"
      ]
     },
     "metadata": {},
     "output_type": "display_data"
    },
    {
     "data": {
      "image/png": "[encoded data removed]",
      "text/plain": [
       "<matplotlib.figure.Figure at 0x7fe9ffd47a20>"
      ]
     },
     "metadata": {},
     "output_type": "display_data"
    },
    {
     "data": {
      "image/png": "[encoded data removed]",
      "text/plain": [
       "<matplotlib.figure.Figure at 0x7fea6ab17198>"
      ]
     },
     "metadata": {},
     "output_type": "display_data"
    },
    {
     "data": {
      "image/png": "[encoded data removed]",
      "text/plain": [
       "<matplotlib.figure.Figure at 0x7fe9f5026da0>"
      ]
     },
     "metadata": {},
     "output_type": "display_data"
    },
    {
     "data": {
      "image/png": "[encoded data removed]",
      "text/plain": [
       "<matplotlib.figure.Figure at 0x7fea26c16898>"
      ]
     },
     "metadata": {},
     "output_type": "display_data"
    },
    {
     "data": {
      "image/png": "[encoded data removed]",
      "text/plain": [
       "<matplotlib.figure.Figure at 0x7fea301a6b70>"
      ]
     },
     "metadata": {},
     "output_type": "display_data"
    }
   ],
   "source": [
    "### Load the images and plot them here.\n",
    "### Feel free to use as many code cells as needed.\n",
    "import cv2\n",
    "from IPython.display import Image, HTML, display\n",
    "#defining our test set manually. The images are located in \"test_set\" directory\n",
    "testset_list = [\n",
    "    {\"filename\": \"EndSpeedLimit_80.jpeg\",\n",
    "        \"class_id\": 6},\n",
    "    {\"filename\": \"GeneralWarning.jpeg\",\n",
    "        \"class_id\": 18},\n",
    "    {\"filename\": \"KeepLeft.jpeg\",\n",
    "        \"class_id\": 39},\n",
    "    {\"filename\": \"NoEntry.jpeg\",\n",
    "        \"class_id\": 17},\n",
    "    {\"filename\": \"NoPassing.jpeg\",\n",
    "        \"class_id\": 9},\n",
    "    {\"filename\": \"SpeedLimit_30.jpeg\",\n",
    "        \"class_id\": 1},\n",
    "    {\"filename\": \"PriorityRoad.jpeg\",\n",
    "        \"class_id\": 12},\n",
    "    {\"filename\": \"RoundAbout.jpeg\",\n",
    "        \"class_id\": 40},\n",
    "    {\"filename\": \"Stop.jpeg\",\n",
    "        \"class_id\": 14},\n",
    "    {\"filename\": \"Yield.jpeg\",\n",
    "        \"class_id\": 13}\n",
    "]\n",
    "print (\"Original Test Images:\")\n",
    "imagesList=''.join( [\"<img style='width: 160px; margin: 0px; float: left; border: 1px solid black;' src='test_set/%s' />\" % str(s['filename']) \n",
    "                 for s in testset_list])\n",
    "display(HTML(imagesList))\n",
    "\n",
    "print (\"Test Images Scalled in 32x32:\")\n",
    "for image in testset_list:\n",
    "    img = cv2.imread('test_set/{}'.format(image[\"filename\"]))\n",
    "    thumbnail = cv2.resize(img, (32, 32),interpolation=3)  # setting cubic interpolation while resizing image\n",
    "    thumbnail = cv2.cvtColor(thumbnail,cv2.COLOR_BGR2RGB)\n",
    "    image['thumbnail'] = thumbnail\n",
    "    plt.figure(figsize=(1,1),)\n",
    "    plt.imshow(thumbnail)\n",
    "    print(\"Class ID: {},  Class Label: {}\".format(image[\"class_id\"], class_map[int(image[\"class_id\"])]))\n",
    "    \n",
    "    # preprocessing thumbnail for DNN inference\n",
    "    test_sample = thumbnail.astype('float32')\n",
    "    test_sample = test_sample - x_mean\n",
    "    test_sample = test_sample/x_std\n",
    "    image['test_sample'] = test_sample"
   ]
  },
  {
   "cell_type": "markdown",
   "metadata": {
    "deletable": true,
    "editable": true
   },
   "source": [
    "### Predict the Sign Type for Each Image"
   ]
  },
  {
   "cell_type": "code",
   "execution_count": 243,
   "metadata": {
    "collapsed": false,
    "deletable": true,
    "editable": true
   },
   "outputs": [
    {
     "name": "stdout",
     "output_type": "stream",
     "text": [
      "Predicting labels using trained CNN:\n",
      "GT Label: End of speed limit (80km/h), Predicted Label: Roundabout mandatory ----- RESULT: False\n",
      "GT Label: General caution, Predicted Label: General caution ----- RESULT: True\n",
      "GT Label: Keep left, Predicted Label: Go straight or left ----- RESULT: False\n",
      "GT Label: No entry, Predicted Label: No entry ----- RESULT: True\n",
      "GT Label: No passing, Predicted Label: Go straight or left ----- RESULT: False\n",
      "GT Label: Speed limit (30km/h), Predicted Label: Speed limit (30km/h) ----- RESULT: True\n",
      "GT Label: Priority road, Predicted Label: Priority road ----- RESULT: True\n",
      "GT Label: Roundabout mandatory, Predicted Label: Roundabout mandatory ----- RESULT: True\n",
      "GT Label: Stop, Predicted Label: Stop ----- RESULT: True\n",
      "GT Label: Yield, Predicted Label: Yield ----- RESULT: True\n"
     ]
    }
   ],
   "source": [
    "### Run the predictions here and use the model to output the prediction for each image.\n",
    "### Make sure to pre-process the images with the same pre-processing pipeline used earlier.\n",
    "### Feel free to use as many code cells as needed.\n",
    "print (\"Predicting labels using trained CNN:\")\n",
    "with tf.Session() as sess:\n",
    "    saver.restore(sess, './traffic_signs')\n",
    "    for image in testset_list:\n",
    "        output = sess.run(tf.argmax(logits, 1), feed_dict = {x: [image['test_sample']], dropout_rate: 1})\n",
    "        print(\"GT Label: {}, Predicted Label: {} ----- RESULT: {}\".format(class_map[image[\"class_id\"]],\\\n",
    "            class_map[int(output)],int(output)==image['class_id']))\n",
    "        # recording results of prediction to show the accuracy in the next cell\n",
    "        image['prediction'] = int(output)==image['class_id']"
   ]
  },
  {
   "cell_type": "markdown",
   "metadata": {
    "deletable": true,
    "editable": true
   },
   "source": [
    "### Analyze Performance"
   ]
  },
  {
   "cell_type": "code",
   "execution_count": 217,
   "metadata": {
    "collapsed": false,
    "deletable": true,
    "editable": true
   },
   "outputs": [
    {
     "name": "stdout",
     "output_type": "stream",
     "text": [
      "Accuracy of classification obtained on 10 test images is 80.0%\n"
     ]
    }
   ],
   "source": [
    "### Calculate the accuracy for these 5 new images. \n",
    "### For example, if the model predicted 1 out of 5 signs correctly, it's 20% accurate on these new images.\n",
    "accuracy = 0.0\n",
    "for image in testset_list:\n",
    "    accuracy += image['prediction']\n",
    "\n",
    "print(\"Accuracy of classification obtained on {} test images is {}%\".format(len(testset_list),100.0*accuracy/len(testset_list)))"
   ]
  },
  {
   "cell_type": "markdown",
   "metadata": {
    "deletable": true,
    "editable": true
   },
   "source": [
    "### Output Top 5 Softmax Probabilities For Each Image Found on the Web"
   ]
  },
  {
   "cell_type": "markdown",
   "metadata": {
    "deletable": true,
    "editable": true
   },
   "source": [
    "For each of the new images, print out the model's softmax probabilities to show the **certainty** of the model's predictions (limit the output to the top 5 probabilities for each image). [`tf.nn.top_k`](https://www.tensorflow.org/versions/r0.12/api_docs/python/nn.html#top_k) could prove helpful here. \n",
    "\n",
    "The example below demonstrates how tf.nn.top_k can be used to find the top k predictions for each image.\n",
    "\n",
    "`tf.nn.top_k` will return the values and indices (class ids) of the top k predictions. So if k=3, for each sign, it'll return the 3 largest probabilities (out of a possible 43) and the correspoding class ids.\n",
    "\n",
    "Take this numpy array as an example. The values in the array represent predictions. The array contains softmax probabilities for five candidate images with six possible classes. `tk.nn.top_k` is used to choose the three classes with the highest probability:\n",
    "\n",
    "```\n",
    "# (5, 6) array\n",
    "a = np.array([[ 0.24879643,  0.07032244,  0.12641572,  0.34763842,  0.07893497,\n",
    "         0.12789202],\n",
    "       [ 0.28086119,  0.27569815,  0.08594638,  0.0178669 ,  0.18063401,\n",
    "         0.15899337],\n",
    "       [ 0.26076848,  0.23664738,  0.08020603,  0.07001922,  0.1134371 ,\n",
    "         0.23892179],\n",
    "       [ 0.11943333,  0.29198961,  0.02605103,  0.26234032,  0.1351348 ,\n",
    "         0.16505091],\n",
    "       [ 0.09561176,  0.34396535,  0.0643941 ,  0.16240774,  0.24206137,\n",
    "         0.09155967]])\n",
    "```\n",
    "\n",
    "Running it through `sess.run(tf.nn.top_k(tf.constant(a), k=3))` produces:\n",
    "\n",
    "```\n",
    "TopKV2(values=array([[ 0.34763842,  0.24879643,  0.12789202],\n",
    "       [ 0.28086119,  0.27569815,  0.18063401],\n",
    "       [ 0.26076848,  0.23892179,  0.23664738],\n",
    "       [ 0.29198961,  0.26234032,  0.16505091],\n",
    "       [ 0.34396535,  0.24206137,  0.16240774]]), indices=array([[3, 0, 5],\n",
    "       [0, 1, 4],\n",
    "       [0, 5, 1],\n",
    "       [1, 3, 5],\n",
    "       [1, 4, 3]], dtype=int32))\n",
    "```\n",
    "\n",
    "Looking just at the first row we get `[ 0.34763842,  0.24879643,  0.12789202]`, you can confirm these are the 3 largest probabilities in `a`. You'll also notice `[3, 0, 5]` are the corresponding indices."
   ]
  },
  {
   "cell_type": "code",
   "execution_count": 218,
   "metadata": {
    "collapsed": false,
    "deletable": true,
    "editable": true
   },
   "outputs": [
    {
     "name": "stdout",
     "output_type": "stream",
     "text": [
      "Predicting top-3 labels using trained CNN:\n",
      "GT Label: End of speed limit (80km/h)### PREDICTIONS: Top-1: End of no passing(0.97)  Top-2: End of no passing by vehicles over 3.5 metric tons(0.02)  Top-3: End of all speed and passing limits(0.00)\n",
      "GT Label: General caution### PREDICTIONS: Top-1: General caution(1.00)  Top-2: Traffic signals(0.00)  Top-3: Pedestrians(0.00)\n",
      "GT Label: Keep left### PREDICTIONS: Top-1: Keep left(0.95)  Top-2: Turn left ahead(0.02)  Top-3: Go straight or left(0.01)\n",
      "GT Label: No entry### PREDICTIONS: Top-1: No entry(1.00)  Top-2: Stop(0.00)  Top-3: Speed limit (30km/h)(0.00)\n",
      "GT Label: No passing### PREDICTIONS: Top-1: Priority road(0.78)  Top-2: No passing(0.09)  Top-3: No passing for vehicles over 3.5 metric tons(0.06)\n",
      "GT Label: Speed limit (30km/h)### PREDICTIONS: Top-1: Speed limit (30km/h)(1.00)  Top-2: Speed limit (20km/h)(0.00)  Top-3: Speed limit (70km/h)(0.00)\n",
      "GT Label: Priority road### PREDICTIONS: Top-1: Priority road(1.00)  Top-2: Traffic signals(0.00)  Top-3: End of no passing(0.00)\n",
      "GT Label: Roundabout mandatory### PREDICTIONS: Top-1: Roundabout mandatory(1.00)  Top-2: Keep left(0.00)  Top-3: Go straight or left(0.00)\n",
      "GT Label: Stop### PREDICTIONS: Top-1: Stop(1.00)  Top-2: No entry(0.00)  Top-3: Speed limit (20km/h)(0.00)\n",
      "GT Label: Yield### PREDICTIONS: Top-1: Yield(1.00)  Top-2: Priority road(0.00)  Top-3: No vehicles(0.00)\n"
     ]
    }
   ],
   "source": [
    "### Print out the top five softmax probabilities for the predictions on the German traffic sign images \n",
    "### found on the web. \n",
    "print (\"Predicting top-3 labels using trained CNN:\")\n",
    "with tf.Session() as sess:\n",
    "    saver.restore(sess, './traffic_signs')\n",
    "    for image in testset_list:\n",
    "        output = sess.run(tf.nn.top_k(tf.nn.softmax(logits), k=3), feed_dict = {x: [image['test_sample']], dropout_rate: 1})\n",
    "        print(\"GT Label: {}### PREDICTIONS: Top-1: {}({:.2f})  Top-2: {}({:.2f})  Top-3: {}({:.2f})\".\\\n",
    "              format(class_map[int(image[\"class_id\"])],\\\n",
    "                    class_map[output.indices[0,0]], output.values[0,0],\\\n",
    "                    class_map[output.indices[0,1]], output.values[0,1],\\\n",
    "                    class_map[output.indices[0,2]], output.values[0,2]))\n",
    "\n"
   ]
  },
  {
   "cell_type": "markdown",
   "metadata": {
    "deletable": true,
    "editable": true
   },
   "source": [
    "> **Note**: Once you have completed all of the code implementations, you need to finalize your work by exporting the IPython Notebook as an HTML document. Before exporting the notebook to html, all of the code cells need to have been run. You can then export the notebook by using the menu above and navigating to  \\n\",\n",
    "    \"**File -> Download as -> HTML (.html)**. Include the finished document along with this notebook as your submission. "
   ]
  },
  {
   "cell_type": "markdown",
   "metadata": {
    "deletable": true,
    "editable": true
   },
   "source": [
    "### Project Writeup\n",
    "\n",
    "Once you have completed the code implementation, document your results in a project writeup using this [template](https://github.com/udacity/CarND-Traffic-Sign-Classifier-Project/blob/master/writeup_template.md) as a guide. The writeup can be in a markdown or pdf file. "
   ]
  }
 ],
 "metadata": {
  "anaconda-cloud": {},
  "kernelspec": {
   "display_name": "Python 3",
   "language": "python",
   "name": "python3"
  },
  "language_info": {
   "codemirror_mode": {
    "name": "ipython",
    "version": 3
   },
   "file_extension": ".py",
   "mimetype": "text/x-python",
   "name": "python",
   "nbconvert_exporter": "python",
   "pygments_lexer": "ipython3",
   "version": "3.5.2"
  },
  "widgets": {
   "state": {},
   "version": "1.1.2"
  }
 },
 "nbformat": 4,
 "nbformat_minor": 1
}
